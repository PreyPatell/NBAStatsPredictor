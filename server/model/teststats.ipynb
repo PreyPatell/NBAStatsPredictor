{
 "cells": [
  {
   "cell_type": "code",
   "execution_count": 37,
   "metadata": {},
   "outputs": [],
   "source": [
    "import pandas as pd\n",
    "import numpy as np\n",
    "import matplotlib.pyplot as plt\n",
    "from collections import defaultdict\n",
    "\n",
    "from nba_api.stats.static import players, teams\n",
    "from nba_api.stats.endpoints import playernextngames, playergamelog"
   ]
  },
  {
   "cell_type": "markdown",
   "metadata": {},
   "source": [
    "Implement Data Collection and Data Preprocessing Functions"
   ]
  },
  {
   "cell_type": "code",
   "execution_count": null,
   "metadata": {},
   "outputs": [],
   "source": [
    "# Get player ID from name\n",
    "def getPlayerID(name):\n",
    "    player = players.find_players_by_full_name(name)\n",
    "    return player[0]['id']\n",
    "\n",
    "# Get team ID from name\n",
    "def getTeamID(team):\n",
    "    team = teams.find_team_by_abbreviation(team)\n",
    "    return team[0]['id']\n",
    "\n",
    "# Get next 5 games by player ID\n",
    "def getNextGames(id):\n",
    "    next = playernextngames.PlayerNextNGames(\n",
    "        number_of_games=\"5\",\n",
    "        player_id=str(id),\n",
    "        season_all=\"2023\",\n",
    "        season_type_all_star=\"Regular Season\"\n",
    "    )\n",
    "\n",
    "    next_games = next.get_data_frames()[0]\n",
    "\n",
    "    columns_to_loop = ['HOME_TEAM_ABBREVIATION', 'VISITOR_TEAM_ABBREVIATION']\n",
    "\n",
    "    # Find player team each game\n",
    "    teams = defaultdict(int)  # Initialize with int type\n",
    "    for home, away in zip(next_games[columns_to_loop[0]], next_games[columns_to_loop[1]]):\n",
    "        teams[home] += 1\n",
    "        teams[away] += 1\n",
    "\n",
    "    for team, amount in teams.items():\n",
    "        if amount == 5:\n",
    "            # Add column for player team\n",
    "            next_games['PLAYER_TEAM_ABBREVIATION'] = team\n",
    "\n",
    "    # Find opponent each game\n",
    "    def findOpponent(row):\n",
    "        if row['HOME_TEAM_ABBREVIATION'] == row['PLAYER_TEAM_ABBREVIATION']:\n",
    "            return row['VISITOR_TEAM_ABBREVIATION']\n",
    "        else:\n",
    "            return row['HOME_TEAM_ABBREVIATION']\n",
    "        \n",
    "    # Add column for opponent\n",
    "    next_games['OPPONENT_TEAM_ABBREVIATION'] = next_games.apply(findOpponent, axis=1)\n",
    "\n",
    "    return next_games\n",
    "\n",
    "# Get player season game log by ID\n",
    "def getGameLog(id):\n",
    "    stats = playergamelog.PlayerGameLog(\n",
    "        player_id=str(id),\n",
    "        season=\"2023\",\n",
    "        season_type_all_star=\"Regular Season\",\n",
    "        #date_from_nullable=\"MM/DD/YYYY\"\n",
    "    )\n",
    "\n",
    "    game_log = stats.get_data_frames()[0]\n",
    "    return game_log\n",
    "\n",
    "id = getPlayerID(\"Lebron James\")\n",
    "getNextGames(id)"
   ]
  },
  {
   "cell_type": "markdown",
   "metadata": {},
   "source": [
    "Implement Feature Selection"
   ]
  },
  {
   "cell_type": "code",
   "execution_count": null,
   "metadata": {},
   "outputs": [],
   "source": []
  },
  {
   "cell_type": "markdown",
   "metadata": {},
   "source": [
    "Implement Model Selection & Model Training"
   ]
  },
  {
   "cell_type": "code",
   "execution_count": null,
   "metadata": {},
   "outputs": [],
   "source": []
  },
  {
   "cell_type": "markdown",
   "metadata": {},
   "source": [
    "Implement Model Evaluation and Prediction"
   ]
  },
  {
   "cell_type": "code",
   "execution_count": null,
   "metadata": {},
   "outputs": [],
   "source": []
  },
  {
   "cell_type": "markdown",
   "metadata": {},
   "source": [
    "Graphing"
   ]
  },
  {
   "cell_type": "code",
   "execution_count": null,
   "metadata": {},
   "outputs": [],
   "source": []
  }
 ],
 "metadata": {
  "kernelspec": {
   "display_name": ".venv",
   "language": "python",
   "name": "python3"
  },
  "language_info": {
   "codemirror_mode": {
    "name": "ipython",
    "version": 3
   },
   "file_extension": ".py",
   "mimetype": "text/x-python",
   "name": "python",
   "nbconvert_exporter": "python",
   "pygments_lexer": "ipython3",
   "version": "3.11.4"
  }
 },
 "nbformat": 4,
 "nbformat_minor": 2
}
